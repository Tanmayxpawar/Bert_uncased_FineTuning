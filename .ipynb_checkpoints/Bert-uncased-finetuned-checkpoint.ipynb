{
 "cells": [
  {
   "cell_type": "code",
   "execution_count": 1,
   "id": "95e19618-7c3a-4a6b-9413-f79d7ece5ca9",
   "metadata": {},
   "outputs": [],
   "source": [
    "from datasets import DatasetDict, Dataset\n",
    "from transformers import AutoTokenizer, AutoModelForSequenceClassification,TrainingArguments, Trainer\n",
    "import evaluate\n",
    "import numpy as np\n",
    "from transformers import DataCollatorWithPadding\n",
    "from datasets import load_dataset"
   ]
  },
  {
   "cell_type": "code",
   "execution_count": 2,
   "id": "127fc9de-0b94-4093-9b65-6556bfd4b72f",
   "metadata": {},
   "outputs": [],
   "source": [
    "dataset_dict = load_dataset(\"shawhin/phishing-site-classification\")"
   ]
  },
  {
   "cell_type": "code",
   "execution_count": 3,
   "id": "c6a97f62-8591-49bb-9992-e8e128f2ce8f",
   "metadata": {},
   "outputs": [
    {
     "name": "stderr",
     "output_type": "stream",
     "text": [
      "Some weights of BertForSequenceClassification were not initialized from the model checkpoint at google-bert/bert-base-uncased and are newly initialized: ['classifier.bias', 'classifier.weight']\n",
      "You should probably TRAIN this model on a down-stream task to be able to use it for predictions and inference.\n"
     ]
    }
   ],
   "source": [
    "# define pre-trained model path\n",
    "model_path = \"google-bert/bert-base-uncased\"\n",
    "# load model tokenizer\n",
    "tokenizer = AutoTokenizer.from_pretrained (model_path)\n",
    "# load model with binary classification head\n",
    "id2label = {0: \"Safe\", 1: \"Not Safe\"}\n",
    "label2id = {\"Safe\": 0, \"Not Safe\": 1}\n",
    "model = AutoModelForSequenceClassification.from_pretrained (model_path,\n",
    "                                                               num_labels=2,\n",
    "                                                               id2label= id2label,\n",
    "                                                               label2id=label2id,)"
   ]
  },
  {
   "cell_type": "code",
   "execution_count": 4,
   "id": "822c875f-e58d-4c2c-b280-1d6d1217f0d6",
   "metadata": {},
   "outputs": [],
   "source": [
    "# freeze all base model parameters\n",
    "for name, param in model.base_model.named_parameters():\n",
    "    param.requires_grad= False\n",
    "# unfreeze base model pooling layers\n",
    "for name, param in model.base_model.named_parameters():\n",
    "    if \"pooler\" in name:\n",
    "        param.requires_grad= True"
   ]
  },
  {
   "cell_type": "code",
   "execution_count": 5,
   "id": "2c4a7268-cb76-4292-bb57-6b744ea7c27d",
   "metadata": {},
   "outputs": [
    {
     "data": {
      "application/vnd.jupyter.widget-view+json": {
       "model_id": "e52504a563cc41cdbef5851c5290e160",
       "version_major": 2,
       "version_minor": 0
      },
      "text/plain": [
       "Map:   0%|          | 0/450 [00:00<?, ? examples/s]"
      ]
     },
     "metadata": {},
     "output_type": "display_data"
    }
   ],
   "source": [
    "# define text preprocessing\n",
    "def preprocess_function (examples):\n",
    "    # return tokenized text with truncation\n",
    "    return tokenizer (examples [\"text\"], truncation=True)\n",
    "# preprocess all datasets\n",
    "tokenized_data = dataset_dict.map(preprocess_function, batched=True)"
   ]
  },
  {
   "cell_type": "code",
   "execution_count": 6,
   "id": "d96c5a7a-a628-4864-9802-b97b71e4ab56",
   "metadata": {},
   "outputs": [],
   "source": [
    "# create data collator\n",
    "data_collator = DataCollatorWithPadding(tokenizer=tokenizer)"
   ]
  },
  {
   "cell_type": "code",
   "execution_count": 13,
   "id": "c10fd521-67f3-4ab2-bb9e-ff75546fe692",
   "metadata": {},
   "outputs": [],
   "source": [
    "# Load metrics\n",
    "import evaluate\n",
    "import numpy as np\n",
    "\n",
    "accuracy = evaluate.load(\"accuracy\")\n",
    "auc_score = evaluate.load(\"roc_auc\")\n",
    "\n",
    "def compute_metrics(eval_pred):\n",
    "    # Get predictions\n",
    "    predictions, labels = eval_pred\n",
    "    \n",
    "    # Cast logits to float for compatibility with numpy functions\n",
    "    predictions = predictions.astype(float)\n",
    "\n",
    "    # Apply softmax to get probabilities\n",
    "    probabilities = np.exp(predictions) / np.exp(predictions).sum(-1, keepdims=True)\n",
    "    \n",
    "    # Use probabilities of the positive class for ROC AUC (assuming class 1 is 'phishing')\n",
    "    positive_class_probs = probabilities[:, 1]\n",
    "\n",
    "    # Compute AUC\n",
    "    auc = np.round(auc_score.compute(prediction_scores=positive_class_probs, references=labels)['roc_auc'], 3)\n",
    "\n",
    "    # Predict most probable class\n",
    "    predicted_classes = np.argmax(predictions, axis=1)\n",
    "    \n",
    "    # Compute accuracy\n",
    "    acc = np.round(accuracy.compute(predictions=predicted_classes, references=labels)['accuracy'], 3)\n",
    "\n",
    "    return {\"Accuracy\": acc, \"AUC\": auc}\n"
   ]
  },
  {
   "cell_type": "code",
   "execution_count": 9,
   "id": "0790f88e-22cd-456e-a95c-4d494408291c",
   "metadata": {},
   "outputs": [],
   "source": [
    "from transformers import TrainingArguments\n",
    "\n",
    "# Hyperparameters\n",
    "lr = 2e-4\n",
    "batch_size = 8\n",
    "num_epochs = 10  # Corrected variable name to use an underscore\n",
    "\n",
    "training_args = TrainingArguments(\n",
    "    output_dir=\"bert-phishing-classifier_teacher\",\n",
    "    learning_rate=lr,\n",
    "    per_device_train_batch_size=batch_size,\n",
    "    per_device_eval_batch_size=batch_size,\n",
    "    num_train_epochs=num_epochs,  # Fixed assignment operator\n",
    "    logging_strategy=\"epoch\",\n",
    "    eval_strategy=\"epoch\",  # Changed 'eval_strategy' to 'evaluation_strategy'\n",
    "    save_strategy=\"epoch\",\n",
    "    load_best_model_at_end=True,\n",
    ")\n"
   ]
  },
  {
   "cell_type": "code",
   "execution_count": 10,
   "id": "2a9a46ba-93aa-491d-8f82-b8c3901396d9",
   "metadata": {},
   "outputs": [
    {
     "name": "stdout",
     "output_type": "stream",
     "text": [
      "4.46.0\n",
      "1.0.1\n"
     ]
    }
   ],
   "source": [
    "import transformers\n",
    "import accelerate\n",
    "\n",
    "print(transformers.__version__)\n",
    "print(accelerate.__version__)\n"
   ]
  },
  {
   "cell_type": "code",
   "execution_count": 11,
   "id": "6422969a-f747-4435-bf67-444a36e165ba",
   "metadata": {},
   "outputs": [
    {
     "name": "stderr",
     "output_type": "stream",
     "text": [
      "C:\\Users\\nikku\\AppData\\Local\\Temp\\ipykernel_15152\\2616244444.py:3: FutureWarning: `tokenizer` is deprecated and will be removed in version 5.0.0 for `Trainer.__init__`. Use `processing_class` instead.\n",
      "  trainer = Trainer(\n"
     ]
    },
    {
     "data": {
      "text/html": [
       "\n",
       "    <div>\n",
       "      \n",
       "      <progress value='2630' max='2630' style='width:300px; height:20px; vertical-align: middle;'></progress>\n",
       "      [2630/2630 16:57, Epoch 10/10]\n",
       "    </div>\n",
       "    <table border=\"1\" class=\"dataframe\">\n",
       "  <thead>\n",
       " <tr style=\"text-align: left;\">\n",
       "      <th>Epoch</th>\n",
       "      <th>Training Loss</th>\n",
       "      <th>Validation Loss</th>\n",
       "      <th>Accuracy</th>\n",
       "      <th>Auc</th>\n",
       "    </tr>\n",
       "  </thead>\n",
       "  <tbody>\n",
       "    <tr>\n",
       "      <td>1</td>\n",
       "      <td>0.494000</td>\n",
       "      <td>0.377244</td>\n",
       "      <td>0.816000</td>\n",
       "      <td>0.913000</td>\n",
       "    </tr>\n",
       "    <tr>\n",
       "      <td>2</td>\n",
       "      <td>0.405800</td>\n",
       "      <td>0.367687</td>\n",
       "      <td>0.840000</td>\n",
       "      <td>0.934000</td>\n",
       "    </tr>\n",
       "    <tr>\n",
       "      <td>3</td>\n",
       "      <td>0.368700</td>\n",
       "      <td>0.324456</td>\n",
       "      <td>0.856000</td>\n",
       "      <td>0.935000</td>\n",
       "    </tr>\n",
       "    <tr>\n",
       "      <td>4</td>\n",
       "      <td>0.346000</td>\n",
       "      <td>0.403224</td>\n",
       "      <td>0.838000</td>\n",
       "      <td>0.944000</td>\n",
       "    </tr>\n",
       "    <tr>\n",
       "      <td>5</td>\n",
       "      <td>0.350100</td>\n",
       "      <td>0.312271</td>\n",
       "      <td>0.871000</td>\n",
       "      <td>0.945000</td>\n",
       "    </tr>\n",
       "    <tr>\n",
       "      <td>6</td>\n",
       "      <td>0.352200</td>\n",
       "      <td>0.290385</td>\n",
       "      <td>0.862000</td>\n",
       "      <td>0.950000</td>\n",
       "    </tr>\n",
       "    <tr>\n",
       "      <td>7</td>\n",
       "      <td>0.321700</td>\n",
       "      <td>0.306940</td>\n",
       "      <td>0.862000</td>\n",
       "      <td>0.947000</td>\n",
       "    </tr>\n",
       "    <tr>\n",
       "      <td>8</td>\n",
       "      <td>0.310900</td>\n",
       "      <td>0.293975</td>\n",
       "      <td>0.864000</td>\n",
       "      <td>0.949000</td>\n",
       "    </tr>\n",
       "    <tr>\n",
       "      <td>9</td>\n",
       "      <td>0.321400</td>\n",
       "      <td>0.285175</td>\n",
       "      <td>0.873000</td>\n",
       "      <td>0.950000</td>\n",
       "    </tr>\n",
       "    <tr>\n",
       "      <td>10</td>\n",
       "      <td>0.309700</td>\n",
       "      <td>0.297383</td>\n",
       "      <td>0.871000</td>\n",
       "      <td>0.951000</td>\n",
       "    </tr>\n",
       "  </tbody>\n",
       "</table><p>"
      ],
      "text/plain": [
       "<IPython.core.display.HTML object>"
      ]
     },
     "metadata": {},
     "output_type": "display_data"
    },
    {
     "data": {
      "text/plain": [
       "TrainOutput(global_step=2630, training_loss=0.35805491458327143, metrics={'train_runtime': 1018.0523, 'train_samples_per_second': 20.628, 'train_steps_per_second': 2.583, 'total_flos': 706603239165360.0, 'train_loss': 0.35805491458327143, 'epoch': 10.0})"
      ]
     },
     "execution_count": 11,
     "metadata": {},
     "output_type": "execute_result"
    }
   ],
   "source": [
    "from transformers import Trainer\n",
    "\n",
    "trainer = Trainer(\n",
    "    model=model,\n",
    "    args=training_args,\n",
    "    train_dataset=tokenized_data[\"train\"],  # Fixed assignment operator\n",
    "    eval_dataset=tokenized_data[\"test\"],    # Fixed assignment operator\n",
    "    tokenizer=tokenizer,                     # Fixed assignment operator\n",
    "    data_collator=data_collator,\n",
    "    compute_metrics=compute_metrics,\n",
    ")\n",
    "\n",
    "trainer.train()\n"
   ]
  },
  {
   "cell_type": "code",
   "execution_count": 14,
   "id": "65f37130-02a4-4d36-a559-402fe645dd8a",
   "metadata": {},
   "outputs": [
    {
     "data": {
      "text/html": [],
      "text/plain": [
       "<IPython.core.display.HTML object>"
      ]
     },
     "metadata": {},
     "output_type": "display_data"
    },
    {
     "name": "stdout",
     "output_type": "stream",
     "text": [
      "{'Accuracy': np.float64(0.88), 'AUC': np.float64(0.947)}\n"
     ]
    }
   ],
   "source": [
    "# Apply the model to the validation dataset\n",
    "predictions = trainer.predict(tokenized_data[\"validation\"])\n",
    "\n",
    "# Extract the logits and labels from the predictions object\n",
    "logits = predictions.predictions\n",
    "labels = predictions.label_ids\n",
    "\n",
    "# Use your compute_metrics function\n",
    "metrics = compute_metrics((logits, labels))\n",
    "print(metrics)\n",
    "\n",
    "# Expected output format:\n",
    "# {'Accuracy': 0.889, 'AUC': 0.946}\n"
   ]
  },
  {
   "cell_type": "code",
   "execution_count": 15,
   "id": "61635413-15f1-48a6-9b99-02552de4f212",
   "metadata": {},
   "outputs": [
    {
     "data": {
      "text/plain": [
       "('bert-phishing-classifier\\\\tokenizer_config.json',\n",
       " 'bert-phishing-classifier\\\\special_tokens_map.json',\n",
       " 'bert-phishing-classifier\\\\vocab.txt',\n",
       " 'bert-phishing-classifier\\\\added_tokens.json',\n",
       " 'bert-phishing-classifier\\\\tokenizer.json')"
      ]
     },
     "execution_count": 15,
     "metadata": {},
     "output_type": "execute_result"
    }
   ],
   "source": [
    "# Save the model and tokenizer\n",
    "model.save_pretrained(\"bert-phishing-classifier\")\n",
    "tokenizer.save_pretrained(\"bert-phishing-classifier\")\n"
   ]
  },
  {
   "cell_type": "code",
   "execution_count": 16,
   "id": "9b4db6ce-8f40-41bd-b15a-4131c2c9876b",
   "metadata": {},
   "outputs": [],
   "source": [
    "#loading the saved model "
   ]
  },
  {
   "cell_type": "code",
   "execution_count": 17,
   "id": "955710e8-bdf9-4e76-85c7-3b17052fa05f",
   "metadata": {},
   "outputs": [],
   "source": [
    "from transformers import AutoModelForSequenceClassification, AutoTokenizer\n",
    "import torch\n",
    "import numpy as np\n",
    "\n",
    "# Load the model and tokenizer\n",
    "model = AutoModelForSequenceClassification.from_pretrained(\"bert-phishing-classifier\")\n",
    "tokenizer = AutoTokenizer.from_pretrained(\"bert-phishing-classifier\")\n"
   ]
  },
  {
   "cell_type": "code",
   "execution_count": 18,
   "id": "83952c3f-7853-40ec-be57-1fc8d40e4683",
   "metadata": {},
   "outputs": [],
   "source": [
    "#This function will preprocess the URL, make predictions, and interpret the output:\n",
    "def classify_url(url):\n",
    "    # Tokenize the input URL\n",
    "    inputs = tokenizer(url, return_tensors=\"pt\", truncation=True, padding=True)\n",
    "    \n",
    "    # Get the model predictions\n",
    "    with torch.no_grad():\n",
    "        outputs = model(**inputs)\n",
    "        logits = outputs.logits\n",
    "    \n",
    "    # Apply softmax to get probabilities\n",
    "    probabilities = torch.softmax(logits, dim=1).numpy()\n",
    "    \n",
    "    # Get the predicted class (0 for non-phishing, 1 for phishing)\n",
    "    predicted_class = np.argmax(probabilities, axis=1)[0]\n",
    "    confidence = probabilities[0][predicted_class]\n",
    "\n",
    "    # Map the class to a human-readable label\n",
    "    if predicted_class == 1:\n",
    "        label = \"Phishing\"\n",
    "    else:\n",
    "        label = \"Non-Phishing\"\n",
    "\n",
    "    return label, confidence\n"
   ]
  },
  {
   "cell_type": "code",
   "execution_count": 20,
   "id": "311a4ac5-9099-4c13-aeaa-5a83cf4f6f92",
   "metadata": {},
   "outputs": [
    {
     "name": "stdout",
     "output_type": "stream",
     "text": [
      "The URL 'http://example-phishing-site.XLCCSGF' is classified as: Phishing with a confidence of 86.90%\n"
     ]
    }
   ],
   "source": [
    "# Example URL to classify\n",
    "new_url = \"http://example-phishing-site.XLCCSGF\"\n",
    "\n",
    "# Get the classification and confidence\n",
    "label, confidence = classify_url(new_url)\n",
    "print(f\"The URL '{new_url}' is classified as: {label} with a confidence of {confidence * 100:.2f}%\")\n"
   ]
  },
  {
   "cell_type": "code",
   "execution_count": null,
   "id": "355ebb9b-b581-4f2b-9aab-5c051b8983d7",
   "metadata": {},
   "outputs": [],
   "source": [
    " "
   ]
  }
 ],
 "metadata": {
  "kernelspec": {
   "display_name": "Python 3 (ipykernel)",
   "language": "python",
   "name": "python3"
  },
  "language_info": {
   "codemirror_mode": {
    "name": "ipython",
    "version": 3
   },
   "file_extension": ".py",
   "mimetype": "text/x-python",
   "name": "python",
   "nbconvert_exporter": "python",
   "pygments_lexer": "ipython3",
   "version": "3.12.4"
  }
 },
 "nbformat": 4,
 "nbformat_minor": 5
}
